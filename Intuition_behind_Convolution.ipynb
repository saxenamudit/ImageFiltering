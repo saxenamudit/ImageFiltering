{
  "nbformat": 4,
  "nbformat_minor": 0,
  "metadata": {
    "colab": {
      "name": "Intuition behind Convolution.ipynb",
      "provenance": [],
      "collapsed_sections": [
        "9v6h5oo1cO74"
      ]
    },
    "kernelspec": {
      "name": "python3",
      "display_name": "Python 3"
    }
  },
  "cells": [
    {
      "cell_type": "markdown",
      "metadata": {
        "id": "cnCrCdF64mqS",
        "colab_type": "text"
      },
      "source": [
        "Welcome to this interactive python session. This should be considered supplementary content to the chapter. We would strongly advise you to read the chapter before trying the hands-on sessions.\n",
        "\n",
        "This session will look at the intuition behind convolution.\n",
        "\n",
        "We encourage you to play around with the numbers and the images as much as possible to get a good feel for the topic. Come to your own conclusions and let us know if you observe some interesting behaviour!"
      ]
    },
    {
      "cell_type": "code",
      "metadata": {
        "id": "QQePG5YcySkQ",
        "colab_type": "code",
        "colab": {}
      },
      "source": [
        "import numpy as np\n",
        "import scipy.signal as sc\n",
        "from tabulate import tabulate\n",
        "import matplotlib.pyplot as plt"
      ],
      "execution_count": 0,
      "outputs": []
    },
    {
      "cell_type": "markdown",
      "metadata": {
        "id": "9v6h5oo1cO74",
        "colab_type": "text"
      },
      "source": [
        "#Vertical Edge detection using convolution"
      ]
    },
    {
      "cell_type": "markdown",
      "metadata": {
        "id": "x033JFSl43fd",
        "colab_type": "text"
      },
      "source": [
        "Base image and kernel"
      ]
    },
    {
      "cell_type": "code",
      "metadata": {
        "id": "5qQhAXz5y9qb",
        "colab_type": "code",
        "outputId": "550fb9f9-5732-4f15-a8e4-7f9a4add2747",
        "colab": {
          "base_uri": "https://localhost:8080/",
          "height": 391
        }
      },
      "source": [
        "base = np.array([[10,10,10,0,0,0,0,0,0],[10,10,10,0,0,0,0,0,0],[10,10,10,0,0,0,0,0,0],[10,10,10,0,0,0,0,0,0],[10,10,10,0,0,0,0,0,0],[10,10,10,0,0,0,0,0,0]])\n",
        "kernel = np.array([[1,0,-1],[1,0,-1],[1,0,-1]])\n",
        "print(\"Say our image is:\")\n",
        "print(tabulate(base, tablefmt=\"fancy_grid\"))\n",
        "print(\"And, the kernel is:\")\n",
        "print(tabulate(kernel, tablefmt=\"fancy_grid\"))\n"
      ],
      "execution_count": 4,
      "outputs": [
        {
          "output_type": "stream",
          "text": [
            "Say our image is:\n",
            "╒════╤════╤════╤═══╤═══╤═══╤═══╤═══╤═══╕\n",
            "│ 10 │ 10 │ 10 │ 0 │ 0 │ 0 │ 0 │ 0 │ 0 │\n",
            "├────┼────┼────┼───┼───┼───┼───┼───┼───┤\n",
            "│ 10 │ 10 │ 10 │ 0 │ 0 │ 0 │ 0 │ 0 │ 0 │\n",
            "├────┼────┼────┼───┼───┼───┼───┼───┼───┤\n",
            "│ 10 │ 10 │ 10 │ 0 │ 0 │ 0 │ 0 │ 0 │ 0 │\n",
            "├────┼────┼────┼───┼───┼───┼───┼───┼───┤\n",
            "│ 10 │ 10 │ 10 │ 0 │ 0 │ 0 │ 0 │ 0 │ 0 │\n",
            "├────┼────┼────┼───┼───┼───┼───┼───┼───┤\n",
            "│ 10 │ 10 │ 10 │ 0 │ 0 │ 0 │ 0 │ 0 │ 0 │\n",
            "├────┼────┼────┼───┼───┼───┼───┼───┼───┤\n",
            "│ 10 │ 10 │ 10 │ 0 │ 0 │ 0 │ 0 │ 0 │ 0 │\n",
            "╘════╧════╧════╧═══╧═══╧═══╧═══╧═══╧═══╛\n",
            "And, the kernel is:\n",
            "╒═══╤═══╤════╕\n",
            "│ 1 │ 0 │ -1 │\n",
            "├───┼───┼────┤\n",
            "│ 1 │ 0 │ -1 │\n",
            "├───┼───┼────┤\n",
            "│ 1 │ 0 │ -1 │\n",
            "╘═══╧═══╧════╛\n"
          ],
          "name": "stdout"
        }
      ]
    },
    {
      "cell_type": "markdown",
      "metadata": {
        "id": "nrZEj_Q15GQX",
        "colab_type": "text"
      },
      "source": [
        "Convolution (cross-correlation) using scipy"
      ]
    },
    {
      "cell_type": "code",
      "metadata": {
        "id": "I_ldCWaEyez6",
        "colab_type": "code",
        "outputId": "adfd99e2-b896-4455-a8f4-2c4b6e7fdc50",
        "colab": {
          "base_uri": "https://localhost:8080/",
          "height": 187
        }
      },
      "source": [
        "output=sc.correlate2d(base,kernel,mode='valid')\n",
        "# why cross-correlate? remember convolution in deep learning explanations is actually the cross-correlation operation\n",
        "print(\"output is:\")\n",
        "print(tabulate(output, tablefmt=\"fancy_grid\"))"
      ],
      "execution_count": 5,
      "outputs": [
        {
          "output_type": "stream",
          "text": [
            "output is:\n",
            "╒═══╤════╤════╤═══╤═══╤═══╤═══╕\n",
            "│ 0 │ 30 │ 30 │ 0 │ 0 │ 0 │ 0 │\n",
            "├───┼────┼────┼───┼───┼───┼───┤\n",
            "│ 0 │ 30 │ 30 │ 0 │ 0 │ 0 │ 0 │\n",
            "├───┼────┼────┼───┼───┼───┼───┤\n",
            "│ 0 │ 30 │ 30 │ 0 │ 0 │ 0 │ 0 │\n",
            "├───┼────┼────┼───┼───┼───┼───┤\n",
            "│ 0 │ 30 │ 30 │ 0 │ 0 │ 0 │ 0 │\n",
            "╘═══╧════╧════╧═══╧═══╧═══╧═══╛\n"
          ],
          "name": "stdout"
        }
      ]
    },
    {
      "cell_type": "markdown",
      "metadata": {
        "id": "ytxD36kZ5PlW",
        "colab_type": "text"
      },
      "source": [
        "plot the results"
      ]
    },
    {
      "cell_type": "code",
      "metadata": {
        "id": "JbITz6lVzfBk",
        "colab_type": "code",
        "outputId": "ccadd965-e8ee-4edf-9a4c-9eb309b7e12a",
        "colab": {
          "base_uri": "https://localhost:8080/",
          "height": 149
        }
      },
      "source": [
        "plt.subplot(131),plt.imshow(base,cmap='gray'),plt.title('Base')\n",
        "plt.xticks([]), plt.yticks([])\n",
        "plt.subplot(132),plt.imshow(kernel,cmap='gray'),plt.title('Vertical Kernel')\n",
        "plt.xticks([]), plt.yticks([])\n",
        "plt.subplot(133),plt.imshow(output,cmap='gray'),plt.title('Convolution')\n",
        "plt.xticks([]), plt.yticks([])\n",
        "plt.show()"
      ],
      "execution_count": 6,
      "outputs": [
        {
          "output_type": "display_data",
          "data": {
            "image/png": "[encoded data removed]",
            "text/plain": [
              "<Figure size 432x288 with 3 Axes>"
            ]
          },
          "metadata": {
            "tags": []
          }
        }
      ]
    },
    {
      "cell_type": "markdown",
      "metadata": {
        "id": "Xwx9OEAdcfHF",
        "colab_type": "text"
      },
      "source": [
        "#Horizontal edge detection using convolution"
      ]
    },
    {
      "cell_type": "markdown",
      "metadata": {
        "id": "xU8ZELfG5jaY",
        "colab_type": "text"
      },
      "source": [
        "Using the same base image as before but with a horizontal edge detector kernel"
      ]
    },
    {
      "cell_type": "code",
      "metadata": {
        "id": "Tdpvydh12usR",
        "colab_type": "code",
        "outputId": "20b5fd45-f8b9-468f-e01d-2815977925b8",
        "colab": {
          "base_uri": "https://localhost:8080/",
          "height": 693
        }
      },
      "source": [
        "\n",
        "horizontalKernel = np.array([[1,1,1],[0,0,0],[-1,-1,-1]])\n",
        "horizontalOutput=sc.correlate2d(base,horizontalKernel,mode='valid')\n",
        "\n",
        "print(\"base image is\")\n",
        "print(tabulate(base, tablefmt=\"fancy_grid\"))\n",
        "print(\"And, the Horizonatal edge detector kernel is:\")\n",
        "print(tabulate(horizontalKernel, tablefmt=\"fancy_grid\"))\n",
        "print(\"output is\")\n",
        "print(tabulate(horizontalOutput, tablefmt=\"fancy_grid\"))\n",
        "\n",
        "plt.subplot(131),plt.imshow(base,cmap='gray'),plt.title('Base')\n",
        "plt.xticks([]), plt.yticks([])\n",
        "plt.subplot(132),plt.imshow(horizontalKernel,cmap='gray'),plt.title('Horizontal Kernel')\n",
        "plt.xticks([]), plt.yticks([])\n",
        "plt.subplot(133),plt.imshow(horizontalOutput,cmap='gray'),plt.title('Convolution')\n",
        "plt.xticks([]), plt.yticks([])\n",
        "plt.show()"
      ],
      "execution_count": 7,
      "outputs": [
        {
          "output_type": "stream",
          "text": [
            "base image is\n",
            "╒════╤════╤════╤═══╤═══╤═══╤═══╤═══╤═══╕\n",
            "│ 10 │ 10 │ 10 │ 0 │ 0 │ 0 │ 0 │ 0 │ 0 │\n",
            "├────┼────┼────┼───┼───┼───┼───┼───┼───┤\n",
            "│ 10 │ 10 │ 10 │ 0 │ 0 │ 0 │ 0 │ 0 │ 0 │\n",
            "├────┼────┼────┼───┼───┼───┼───┼───┼───┤\n",
            "│ 10 │ 10 │ 10 │ 0 │ 0 │ 0 │ 0 │ 0 │ 0 │\n",
            "├────┼────┼────┼───┼───┼───┼───┼───┼───┤\n",
            "│ 10 │ 10 │ 10 │ 0 │ 0 │ 0 │ 0 │ 0 │ 0 │\n",
            "├────┼────┼────┼───┼───┼───┼───┼───┼───┤\n",
            "│ 10 │ 10 │ 10 │ 0 │ 0 │ 0 │ 0 │ 0 │ 0 │\n",
            "├────┼────┼────┼───┼───┼───┼───┼───┼───┤\n",
            "│ 10 │ 10 │ 10 │ 0 │ 0 │ 0 │ 0 │ 0 │ 0 │\n",
            "╘════╧════╧════╧═══╧═══╧═══╧═══╧═══╧═══╛\n",
            "And, the Horizonatal edge detector kernel is:\n",
            "╒════╤════╤════╕\n",
            "│  1 │  1 │  1 │\n",
            "├────┼────┼────┤\n",
            "│  0 │  0 │  0 │\n",
            "├────┼────┼────┤\n",
            "│ -1 │ -1 │ -1 │\n",
            "╘════╧════╧════╛\n",
            "output is\n",
            "╒═══╤═══╤═══╤═══╤═══╤═══╤═══╕\n",
            "│ 0 │ 0 │ 0 │ 0 │ 0 │ 0 │ 0 │\n",
            "├───┼───┼───┼───┼───┼───┼───┤\n",
            "│ 0 │ 0 │ 0 │ 0 │ 0 │ 0 │ 0 │\n",
            "├───┼───┼───┼───┼───┼───┼───┤\n",
            "│ 0 │ 0 │ 0 │ 0 │ 0 │ 0 │ 0 │\n",
            "├───┼───┼───┼───┼───┼───┼───┤\n",
            "│ 0 │ 0 │ 0 │ 0 │ 0 │ 0 │ 0 │\n",
            "╘═══╧═══╧═══╧═══╧═══╧═══╧═══╛\n"
          ],
          "name": "stdout"
        },
        {
          "output_type": "display_data",
          "data": {
            "image/png": "[encoded data removed]",
            "text/plain": [
              "<Figure size 432x288 with 3 Axes>"
            ]
          },
          "metadata": {
            "tags": []
          }
        }
      ]
    },
    {
      "cell_type": "markdown",
      "metadata": {
        "id": "ZqhgPQxF51f_",
        "colab_type": "text"
      },
      "source": [
        "Using a different base image now with the horizontal edge detector kernel"
      ]
    },
    {
      "cell_type": "code",
      "metadata": {
        "id": "mOsIxWeK3FO2",
        "colab_type": "code",
        "outputId": "023175b5-3291-4e94-98ac-bb1c91aa4fd6",
        "colab": {
          "base_uri": "https://localhost:8080/",
          "height": 693
        }
      },
      "source": [
        "\n",
        "horizontalBase = np.array([[0,0,0,0,0,0,0,0,0],[0,0,0,0,0,0,0,0,0],[0,0,0,0,0,0,0,0,0],[10,10,10,10,10,10,10,10,10],[0,0,0,0,0,0,0,0,0],[0,0,0,0,0,0,0,0,0]])\n",
        "\n",
        "horizontalKernel = np.array([[1,1,1],[0,0,0],[-1,-1,-1]])\n",
        "horizontalOutput=sc.correlate2d(horizontalBase,horizontalKernel,mode='valid')\n",
        "\n",
        "print(\"base image is\")\n",
        "print(tabulate(horizontalBase, tablefmt=\"fancy_grid\"))\n",
        "print(\"And, the Horizonatal edge detector kernel is:\")\n",
        "print(tabulate(horizontalKernel, tablefmt=\"fancy_grid\"))\n",
        "print(\"output is\")\n",
        "print(tabulate(horizontalOutput, tablefmt=\"fancy_grid\"))\n",
        "\n",
        "plt.subplot(131),plt.imshow(horizontalBase,cmap='gray'),plt.title('Base')\n",
        "plt.xticks([]), plt.yticks([])\n",
        "plt.subplot(132),plt.imshow(horizontalKernel,cmap='gray'),plt.title('Horizontal Kernel')\n",
        "plt.xticks([]), plt.yticks([])\n",
        "plt.subplot(133),plt.imshow(horizontalOutput,cmap='gray'),plt.title('Convolution')\n",
        "plt.xticks([]), plt.yticks([])\n",
        "plt.show()"
      ],
      "execution_count": 8,
      "outputs": [
        {
          "output_type": "stream",
          "text": [
            "base image is\n",
            "╒════╤════╤════╤════╤════╤════╤════╤════╤════╕\n",
            "│  0 │  0 │  0 │  0 │  0 │  0 │  0 │  0 │  0 │\n",
            "├────┼────┼────┼────┼────┼────┼────┼────┼────┤\n",
            "│  0 │  0 │  0 │  0 │  0 │  0 │  0 │  0 │  0 │\n",
            "├────┼────┼────┼────┼────┼────┼────┼────┼────┤\n",
            "│  0 │  0 │  0 │  0 │  0 │  0 │  0 │  0 │  0 │\n",
            "├────┼────┼────┼────┼────┼────┼────┼────┼────┤\n",
            "│ 10 │ 10 │ 10 │ 10 │ 10 │ 10 │ 10 │ 10 │ 10 │\n",
            "├────┼────┼────┼────┼────┼────┼────┼────┼────┤\n",
            "│  0 │  0 │  0 │  0 │  0 │  0 │  0 │  0 │  0 │\n",
            "├────┼────┼────┼────┼────┼────┼────┼────┼────┤\n",
            "│  0 │  0 │  0 │  0 │  0 │  0 │  0 │  0 │  0 │\n",
            "╘════╧════╧════╧════╧════╧════╧════╧════╧════╛\n",
            "And, the Horizonatal edge detector kernel is:\n",
            "╒════╤════╤════╕\n",
            "│  1 │  1 │  1 │\n",
            "├────┼────┼────┤\n",
            "│  0 │  0 │  0 │\n",
            "├────┼────┼────┤\n",
            "│ -1 │ -1 │ -1 │\n",
            "╘════╧════╧════╛\n",
            "output is\n",
            "╒═════╤═════╤═════╤═════╤═════╤═════╤═════╕\n",
            "│   0 │   0 │   0 │   0 │   0 │   0 │   0 │\n",
            "├─────┼─────┼─────┼─────┼─────┼─────┼─────┤\n",
            "│ -30 │ -30 │ -30 │ -30 │ -30 │ -30 │ -30 │\n",
            "├─────┼─────┼─────┼─────┼─────┼─────┼─────┤\n",
            "│   0 │   0 │   0 │   0 │   0 │   0 │   0 │\n",
            "├─────┼─────┼─────┼─────┼─────┼─────┼─────┤\n",
            "│  30 │  30 │  30 │  30 │  30 │  30 │  30 │\n",
            "╘═════╧═════╧═════╧═════╧═════╧═════╧═════╛\n"
          ],
          "name": "stdout"
        },
        {
          "output_type": "display_data",
          "data": {
            "image/png": "[encoded data removed]",
            "text/plain": [
              "<Figure size 432x288 with 3 Axes>"
            ]
          },
          "metadata": {
            "tags": []
          }
        }
      ]
    }
  ]
}